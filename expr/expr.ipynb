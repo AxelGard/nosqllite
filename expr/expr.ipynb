{
 "cells": [
  {
   "cell_type": "code",
   "execution_count": 1,
   "metadata": {},
   "outputs": [],
   "source": [
    "import nosqllite as nosqll"
   ]
  },
  {
   "cell_type": "code",
   "execution_count": 2,
   "metadata": {},
   "outputs": [],
   "source": [
    "db = nosqll.Database(\"example_db\")"
   ]
  },
  {
   "cell_type": "code",
   "execution_count": 3,
   "metadata": {},
   "outputs": [
    {
     "name": "stderr",
     "output_type": "stream",
     "text": [
      "/home/axel/Programs/repositories/personal/nosqllite/nosqllite/group.py:44: UserWarning: tried to make new doc but name taken\n",
      "  warnings.warn(\"tried to make new doc but name taken\")\n"
     ]
    }
   ],
   "source": [
    "doc = db.add_document(\"users\")"
   ]
  },
  {
   "cell_type": "code",
   "execution_count": 4,
   "metadata": {},
   "outputs": [],
   "source": [
    "db[\"users\"].data = [{\"name\":\"Axel\"},{\"name\":\"Foo\"}]\n",
    "doc.save()"
   ]
  },
  {
   "cell_type": "code",
   "execution_count": 5,
   "metadata": {},
   "outputs": [
    {
     "data": {
      "text/plain": [
       "[{'name': 'Axel'}, {'name': 'Foo'}]"
      ]
     },
     "execution_count": 5,
     "metadata": {},
     "output_type": "execute_result"
    }
   ],
   "source": [
    "doc.data"
   ]
  },
  {
   "cell_type": "code",
   "execution_count": 6,
   "metadata": {},
   "outputs": [
    {
     "data": {
      "text/plain": [
       "'Foo'"
      ]
     },
     "execution_count": 6,
     "metadata": {},
     "output_type": "execute_result"
    }
   ],
   "source": [
    "db[\"users\"].data[-1][\"name\"]"
   ]
  },
  {
   "cell_type": "code",
   "execution_count": 7,
   "metadata": {},
   "outputs": [
    {
     "data": {
      "text/plain": [
       "{'bar': nosqllite.Document(/home/axel/Programs/repositories/personal/nosqllite/expr/example_db/bar.json),\n",
       " 'users': nosqllite.Document(/home/axel/Programs/repositories/personal/nosqllite/expr/example_db/users.json),\n",
       " 'foo': nosqllite.Document(/home/axel/Programs/repositories/personal/nosqllite/expr/example_db/foo.json)}"
      ]
     },
     "execution_count": 7,
     "metadata": {},
     "output_type": "execute_result"
    }
   ],
   "source": [
    "db.documents"
   ]
  },
  {
   "cell_type": "code",
   "execution_count": 8,
   "metadata": {},
   "outputs": [],
   "source": [
    "doc2 = db.add_document(\"bar\")"
   ]
  },
  {
   "cell_type": "code",
   "execution_count": 9,
   "metadata": {},
   "outputs": [],
   "source": [
    "doc2.data = [1,2,3,4]"
   ]
  },
  {
   "cell_type": "code",
   "execution_count": 10,
   "metadata": {},
   "outputs": [],
   "source": [
    "db.save()"
   ]
  },
  {
   "cell_type": "code",
   "execution_count": 11,
   "metadata": {},
   "outputs": [
    {
     "data": {
      "text/plain": [
       "{'bar': nosqllite.Document(/home/axel/Programs/repositories/personal/nosqllite/expr/example_db/bar.json),\n",
       " 'users': nosqllite.Document(/home/axel/Programs/repositories/personal/nosqllite/expr/example_db/users.json),\n",
       " 'foo': nosqllite.Document(/home/axel/Programs/repositories/personal/nosqllite/expr/example_db/foo.json)}"
      ]
     },
     "execution_count": 11,
     "metadata": {},
     "output_type": "execute_result"
    }
   ],
   "source": [
    "db.documents"
   ]
  },
  {
   "cell_type": "code",
   "execution_count": 12,
   "metadata": {},
   "outputs": [
    {
     "data": {
      "text/plain": [
       "[1, 2, 3, 4]"
      ]
     },
     "execution_count": 12,
     "metadata": {},
     "output_type": "execute_result"
    }
   ],
   "source": [
    "db.documents[\"bar\"].data"
   ]
  },
  {
   "cell_type": "code",
   "execution_count": 13,
   "metadata": {},
   "outputs": [],
   "source": [
    "db.documents[\"bar\"].data = [1,2]"
   ]
  },
  {
   "cell_type": "code",
   "execution_count": 14,
   "metadata": {},
   "outputs": [
    {
     "data": {
      "text/plain": [
       "nosqllite.Document(/home/axel/Programs/repositories/personal/nosqllite/expr/example_db/bar.json)"
      ]
     },
     "execution_count": 14,
     "metadata": {},
     "output_type": "execute_result"
    }
   ],
   "source": [
    "db.documents[\"bar\"]"
   ]
  },
  {
   "cell_type": "code",
   "execution_count": 15,
   "metadata": {},
   "outputs": [
    {
     "data": {
      "text/plain": [
       "nosqllite.Database(/home/axel/Programs/repositories/personal/nosqllite/expr/example_db/)"
      ]
     },
     "execution_count": 15,
     "metadata": {},
     "output_type": "execute_result"
    }
   ],
   "source": [
    "db"
   ]
  },
  {
   "cell_type": "code",
   "execution_count": 16,
   "metadata": {},
   "outputs": [],
   "source": [
    "foo_doc = db.add_document(\"foo\")"
   ]
  },
  {
   "cell_type": "code",
   "execution_count": 17,
   "metadata": {},
   "outputs": [],
   "source": [
    "foo_doc.data = {\"hello\": \"world\"}\n",
    "foo_doc.save()"
   ]
  },
  {
   "cell_type": "code",
   "execution_count": 18,
   "metadata": {},
   "outputs": [
    {
     "name": "stdout",
     "output_type": "stream",
     "text": [
      "<class 'list'>\n",
      "1\n",
      "2\n",
      "<class 'list'>\n",
      "{'name': 'Axel'}\n",
      "{'name': 'Foo'}\n",
      "<class 'dict'>\n",
      "hello\n"
     ]
    }
   ],
   "source": [
    "for doc in db:\n",
    "    print(doc.type_of())\n",
    "    for d in doc:\n",
    "        print(d)"
   ]
  },
  {
   "cell_type": "code",
   "execution_count": 19,
   "metadata": {},
   "outputs": [
    {
     "name": "stderr",
     "output_type": "stream",
     "text": [
      "/home/axel/Programs/repositories/personal/nosqllite/nosqllite/group.py:21: UserWarning: there is a dir with that name\n",
      "  warnings.warn(\"there is a dir with that name\")\n"
     ]
    },
    {
     "data": {
      "text/plain": [
       "nosqllite.group(/home/axel/Programs/repositories/personal/nosqllite/expr/example_db/sub/)"
      ]
     },
     "execution_count": 19,
     "metadata": {},
     "output_type": "execute_result"
    }
   ],
   "source": [
    "db.add_group(\"sub\")"
   ]
  },
  {
   "cell_type": "code",
   "execution_count": 20,
   "metadata": {},
   "outputs": [
    {
     "data": {
      "text/plain": [
       "nosqllite.Document(/home/axel/Programs/repositories/personal/nosqllite/expr/example_db/sub/subdoc.json)"
      ]
     },
     "execution_count": 20,
     "metadata": {},
     "output_type": "execute_result"
    }
   ],
   "source": [
    "db[\"sub\"].add_document(\"subdoc\")"
   ]
  },
  {
   "cell_type": "code",
   "execution_count": 21,
   "metadata": {},
   "outputs": [
    {
     "data": {
      "text/plain": [
       "nosqllite.group(/home/axel/Programs/repositories/personal/nosqllite/expr/example_db/sub/subsub/)"
      ]
     },
     "execution_count": 21,
     "metadata": {},
     "output_type": "execute_result"
    }
   ],
   "source": [
    "db[\"sub\"].add_group(\"subsub\")"
   ]
  },
  {
   "cell_type": "code",
   "execution_count": 22,
   "metadata": {},
   "outputs": [
    {
     "data": {
      "text/plain": [
       "nosqllite.Document(/home/axel/Programs/repositories/personal/nosqllite/expr/example_db/sub/subsub/test.json)"
      ]
     },
     "execution_count": 22,
     "metadata": {},
     "output_type": "execute_result"
    }
   ],
   "source": [
    "db[\"sub\"][\"subsub\"].add_document(\"test\")"
   ]
  },
  {
   "cell_type": "code",
   "execution_count": 23,
   "metadata": {},
   "outputs": [],
   "source": [
    "db[\"sub\"][\"subsub\"][\"test\"].data[\"some_key\"] = \"value\"\n",
    "db.save()"
   ]
  },
  {
   "cell_type": "code",
   "execution_count": null,
   "metadata": {},
   "outputs": [],
   "source": []
  }
 ],
 "metadata": {
  "kernelspec": {
   "display_name": "env",
   "language": "python",
   "name": "python3"
  },
  "language_info": {
   "codemirror_mode": {
    "name": "ipython",
    "version": 3
   },
   "file_extension": ".py",
   "mimetype": "text/x-python",
   "name": "python",
   "nbconvert_exporter": "python",
   "pygments_lexer": "ipython3",
   "version": "3.12.3"
  }
 },
 "nbformat": 4,
 "nbformat_minor": 2
}
